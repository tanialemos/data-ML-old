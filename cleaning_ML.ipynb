{
 "cells": [
  {
   "cell_type": "markdown",
   "metadata": {},
   "source": [
    "# CONFIG"
   ]
  },
  {
   "cell_type": "code",
   "execution_count": 76,
   "metadata": {},
   "outputs": [
    {
     "data": {
      "text/plain": [
       "Index(['Unnamed: 0', 'id', 'locality', 'postal_code', 'region', 'province',\n",
       "       'type_of_property', 'subtype_of_property', 'type_of_sale', 'price',\n",
       "       'number_of_bedrooms', 'surface', 'kitchen_type',\n",
       "       'fully_equipped_kitchen', 'furnished', 'open_fire', 'terrace',\n",
       "       'terrace_surface', 'garden', 'garden_surface', 'land_surface',\n",
       "       'number_of_facades', 'swimming_pool', 'state_of_the_building'],\n",
       "      dtype='object')"
      ]
     },
     "execution_count": 76,
     "metadata": {},
     "output_type": "execute_result"
    }
   ],
   "source": [
    "from selenium import webdriver\n",
    "from selenium.webdriver.common.keys import Keys\n",
    "from selenium.webdriver.common.by import By\n",
    "import json\n",
    "import time\n",
    "import seaborn as sb\n",
    "import numpy as np\n",
    "import pandas as pd\n",
    "import matplotlib.pyplot as plt\n",
    "import scipy.stats as stats\n",
    "from numpy import NaN\n",
    "df = pd.read_csv(\"60k.csv\")\n",
    "df.columns"
   ]
  },
  {
   "cell_type": "markdown",
   "metadata": {},
   "source": [
    "# CLEANING"
   ]
  },
  {
   "cell_type": "markdown",
   "metadata": {},
   "source": [
    "- DROP features"
   ]
  },
  {
   "cell_type": "code",
   "execution_count": 77,
   "metadata": {},
   "outputs": [
    {
     "data": {
      "text/plain": [
       "Index(['id', 'postal_code', 'type_of_property', 'subtype_of_property',\n",
       "       'type_of_sale', 'price', 'number_of_bedrooms', 'surface', 'terrace',\n",
       "       'garden', 'swimming_pool'],\n",
       "      dtype='object')"
      ]
     },
     "execution_count": 77,
     "metadata": {},
     "output_type": "execute_result"
    }
   ],
   "source": [
    "del df[\"Unnamed: 0\"]\n",
    "del df[\"locality\"]\n",
    "del df[\"fully_equipped_kitchen\"]\n",
    "del df[\"kitchen_type\"]\n",
    "del df[\"land_surface\"]\n",
    "del df[\"number_of_facades\"]\n",
    "del df[\"garden_surface\"]\n",
    "del df[\"terrace_surface\"]\n",
    "del df[\"furnished\"]\n",
    "del df[\"open_fire\"]\n",
    "del df[\"state_of_the_building\"]\n",
    "del df[\"region\"]\n",
    "del df[\"province\"]"
   ]
  },
  {
   "cell_type": "markdown",
   "metadata": {},
   "source": [
    "Replace -1 BY NaN\n",
    "Replace NaN by 0 for selected features"
   ]
  },
  {
   "cell_type": "code",
   "execution_count": 78,
   "metadata": {},
   "outputs": [
    {
     "name": "stdout",
     "output_type": "stream",
     "text": [
      "[0 1]\n",
      "[0 1]\n",
      "[1 0]\n"
     ]
    }
   ],
   "source": [
    "df = df.replace(-1, NaN)\n",
    "df[\"swimming_pool\"] = df[\"swimming_pool\"].replace(NaN, 0).astype(int)\n",
    "df[\"garden\"] = df[\"garden\"].replace(NaN, 0).astype(int)\n",
    "df[\"terrace\"] = df[\"terrace\"].replace(NaN, 0).astype(int)\n",
    "\n",
    "print(df[\"swimming_pool\"].unique())\n",
    "print(df[\"garden\"].unique())\n",
    "print(df[\"terrace\"].unique())\n"
   ]
  },
  {
   "cell_type": "markdown",
   "metadata": {},
   "source": [
    "Drop NaN in selected features"
   ]
  },
  {
   "cell_type": "code",
   "execution_count": 79,
   "metadata": {},
   "outputs": [
    {
     "data": {
      "text/html": [
       "<div>\n",
       "<style scoped>\n",
       "    .dataframe tbody tr th:only-of-type {\n",
       "        vertical-align: middle;\n",
       "    }\n",
       "\n",
       "    .dataframe tbody tr th {\n",
       "        vertical-align: top;\n",
       "    }\n",
       "\n",
       "    .dataframe thead th {\n",
       "        text-align: right;\n",
       "    }\n",
       "</style>\n",
       "<table border=\"1\" class=\"dataframe\">\n",
       "  <thead>\n",
       "    <tr style=\"text-align: right;\">\n",
       "      <th></th>\n",
       "      <th>id</th>\n",
       "      <th>postal_code</th>\n",
       "      <th>type_of_property</th>\n",
       "      <th>subtype_of_property</th>\n",
       "      <th>type_of_sale</th>\n",
       "      <th>price</th>\n",
       "      <th>number_of_bedrooms</th>\n",
       "      <th>surface</th>\n",
       "      <th>terrace</th>\n",
       "      <th>garden</th>\n",
       "      <th>swimming_pool</th>\n",
       "    </tr>\n",
       "  </thead>\n",
       "  <tbody>\n",
       "    <tr>\n",
       "      <th>0</th>\n",
       "      <td>10131114</td>\n",
       "      <td>5377</td>\n",
       "      <td>HOUSE</td>\n",
       "      <td>HOUSE</td>\n",
       "      <td>residential_sale</td>\n",
       "      <td>100000.0</td>\n",
       "      <td>2.0</td>\n",
       "      <td>150.0</td>\n",
       "      <td>1</td>\n",
       "      <td>0</td>\n",
       "      <td>0</td>\n",
       "    </tr>\n",
       "    <tr>\n",
       "      <th>1</th>\n",
       "      <td>10150865</td>\n",
       "      <td>5500</td>\n",
       "      <td>APARTMENT</td>\n",
       "      <td>APARTMENT</td>\n",
       "      <td>residential_sale</td>\n",
       "      <td>219000.0</td>\n",
       "      <td>2.0</td>\n",
       "      <td>100.0</td>\n",
       "      <td>1</td>\n",
       "      <td>0</td>\n",
       "      <td>0</td>\n",
       "    </tr>\n",
       "    <tr>\n",
       "      <th>2</th>\n",
       "      <td>10134850</td>\n",
       "      <td>5190</td>\n",
       "      <td>HOUSE</td>\n",
       "      <td>APARTMENT_BLOCK</td>\n",
       "      <td>residential_sale</td>\n",
       "      <td>450000.0</td>\n",
       "      <td>6.0</td>\n",
       "      <td>330.0</td>\n",
       "      <td>1</td>\n",
       "      <td>1</td>\n",
       "      <td>0</td>\n",
       "    </tr>\n",
       "    <tr>\n",
       "      <th>3</th>\n",
       "      <td>10022778</td>\n",
       "      <td>5030</td>\n",
       "      <td>APARTMENT</td>\n",
       "      <td>APARTMENT</td>\n",
       "      <td>residential_sale</td>\n",
       "      <td>285000.0</td>\n",
       "      <td>2.0</td>\n",
       "      <td>81.0</td>\n",
       "      <td>1</td>\n",
       "      <td>0</td>\n",
       "      <td>0</td>\n",
       "    </tr>\n",
       "    <tr>\n",
       "      <th>4</th>\n",
       "      <td>9989192</td>\n",
       "      <td>5060</td>\n",
       "      <td>APARTMENT</td>\n",
       "      <td>APARTMENT</td>\n",
       "      <td>residential_sale</td>\n",
       "      <td>284000.0</td>\n",
       "      <td>2.0</td>\n",
       "      <td>150.0</td>\n",
       "      <td>1</td>\n",
       "      <td>0</td>\n",
       "      <td>0</td>\n",
       "    </tr>\n",
       "  </tbody>\n",
       "</table>\n",
       "</div>"
      ],
      "text/plain": [
       "         id  postal_code type_of_property subtype_of_property  \\\n",
       "0  10131114         5377            HOUSE               HOUSE   \n",
       "1  10150865         5500        APARTMENT           APARTMENT   \n",
       "2  10134850         5190            HOUSE     APARTMENT_BLOCK   \n",
       "3  10022778         5030        APARTMENT           APARTMENT   \n",
       "4   9989192         5060        APARTMENT           APARTMENT   \n",
       "\n",
       "       type_of_sale     price  number_of_bedrooms  surface  terrace  garden  \\\n",
       "0  residential_sale  100000.0                 2.0    150.0        1       0   \n",
       "1  residential_sale  219000.0                 2.0    100.0        1       0   \n",
       "2  residential_sale  450000.0                 6.0    330.0        1       1   \n",
       "3  residential_sale  285000.0                 2.0     81.0        1       0   \n",
       "4  residential_sale  284000.0                 2.0    150.0        1       0   \n",
       "\n",
       "   swimming_pool  \n",
       "0              0  \n",
       "1              0  \n",
       "2              0  \n",
       "3              0  \n",
       "4              0  "
      ]
     },
     "execution_count": 79,
     "metadata": {},
     "output_type": "execute_result"
    }
   ],
   "source": [
    "df.dropna(subset='price', inplace = True)\n",
    "df.dropna(subset='number_of_bedrooms', inplace = True)\n",
    "df.dropna(subset='surface', inplace = True)"
   ]
  },
  {
   "cell_type": "code",
   "execution_count": 86,
   "metadata": {},
   "outputs": [
    {
     "data": {
      "text/plain": [
       "count     49023\n",
       "unique        2\n",
       "top       HOUSE\n",
       "freq      28247\n",
       "Name: type_of_property, dtype: object"
      ]
     },
     "execution_count": 86,
     "metadata": {},
     "output_type": "execute_result"
    }
   ],
   "source": [
    "df.drop(df.index[df['type_of_property'] == 'HOUSE_GROUP'], inplace=True)\n",
    "df.drop(df.index[df['type_of_property'] == 'APPARTMENT_GROUP'], inplace=True)\n",
    "df.drop(df.index[df['type_of_sale'] != 'residential_sale'], inplace=True)"
   ]
  },
  {
   "cell_type": "code",
   "execution_count": null,
   "metadata": {},
   "outputs": [],
   "source": []
  },
  {
   "cell_type": "code",
   "execution_count": null,
   "metadata": {},
   "outputs": [],
   "source": []
  }
 ],
 "metadata": {
  "kernelspec": {
   "display_name": "Python 3.10.6 ('ENV_IMMO')",
   "language": "python",
   "name": "python3"
  },
  "language_info": {
   "codemirror_mode": {
    "name": "ipython",
    "version": 3
   },
   "file_extension": ".py",
   "mimetype": "text/x-python",
   "name": "python",
   "nbconvert_exporter": "python",
   "pygments_lexer": "ipython3",
   "version": "3.10.6"
  },
  "orig_nbformat": 4,
  "vscode": {
   "interpreter": {
    "hash": "1102786b7e7c729305d6f8f258618ad9f5c856ba532d4f331d56d0d460005511"
   }
  }
 },
 "nbformat": 4,
 "nbformat_minor": 2
}
