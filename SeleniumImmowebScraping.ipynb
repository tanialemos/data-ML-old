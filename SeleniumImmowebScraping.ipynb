{
 "cells": [
  {
   "cell_type": "markdown",
   "metadata": {},
   "source": [
    "# Testing Selenium Scraping on Immoweb"
   ]
  },
  {
   "cell_type": "markdown",
   "metadata": {},
   "source": [
    "## First do the usefulls imports"
   ]
  },
  {
   "cell_type": "code",
   "execution_count": null,
   "metadata": {},
   "outputs": [],
   "source": [
    "from selenium import webdriver\n",
    "from selenium.webdriver.common.keys import Keys\n",
    "from selenium.webdriver.common.by import By\n",
    "import json\n",
    "import time"
   ]
  },
  {
   "cell_type": "markdown",
   "metadata": {},
   "source": [
    "## Manage the cookies on Immoweb"
   ]
  },
  {
   "cell_type": "code",
   "execution_count": null,
   "metadata": {},
   "outputs": [],
   "source": [
    "driver = webdriver.Chrome()\n",
    "driver.maximize_window()\n",
    "driver.get(\"https://www.immoweb.be/en\")\n",
    "time.sleep(3)\n",
    "cookies = driver.find_element(By.XPATH,'/html/body/div[3]/div[4]/div[2]/div/div[2]/div[1]/button')\n",
    "cookies.click()\n",
    "driver.close()"
   ]
  },
  {
   "cell_type": "markdown",
   "metadata": {},
   "source": [
    "#### Can be improve ...\n",
    "\n"
   ]
  },
  {
   "cell_type": "markdown",
   "metadata": {},
   "source": [
    "## Create urls data saving in a .json file"
   ]
  },
  {
   "cell_type": "code",
   "execution_count": null,
   "metadata": {},
   "outputs": [],
   "source": [
    "def save_cache (provinces_urls_dict) :\n",
    "    \n",
    "    with open(\"cache_urls.json\",\"w\") as my_file :\n",
    "        json.dump(provinces_urls_dict,my_file)"
   ]
  },
  {
   "cell_type": "markdown",
   "metadata": {},
   "source": [
    "## Extract URLs of Houses and Appartments for sale inside an Immoweb page"
   ]
  },
  {
   "cell_type": "code",
   "execution_count": null,
   "metadata": {},
   "outputs": [],
   "source": [
    "driver = webdriver.Chrome()\n",
    "driver.maximize_window()\n",
    "driver.get(\"https://www.immoweb.be/en\")\n",
    "time.sleep(3)\n",
    "cookies = driver.find_element(By.XPATH,'/html/body/div[3]/div[4]/div[2]/div/div[2]/div[1]/button')\n",
    "cookies.click()\n",
    "\n",
    "H_A_page_urls_set = set()\n",
    "driver.get(\"https://www.immoweb.be/en/search/house-and-apartment/for-sale/brussels/province?countries=BE&isALifeAnnuitySale=false&page=1&orderBy=relevance\")\n",
    "H_A_driver_list = driver.find_elements(By.XPATH,'/html/body/div[1]/div[1]/div/main/div/div[2]/div/div[3]/div/div[1]/div[1]/div[1]/ul/li[*]/article/div[1]/h2/a')\n",
    "H_A_page_urls_set = {H_A.get_attribute(\"href\") for H_A in H_A_driver_list}\n",
    "print(H_A_page_urls_set)\n",
    "driver.close()"
   ]
  },
  {
   "cell_type": "markdown",
   "metadata": {},
   "source": [
    "### Create the appropriate function to extract URLs"
   ]
  },
  {
   "cell_type": "code",
   "execution_count": null,
   "metadata": {},
   "outputs": [],
   "source": [
    "def get_houses_appartments_page_urls(driver) :\n",
    "    \n",
    "    H_A_driver_list = driver.find_elements(By.XPATH,'/html/body/div[1]/div[1]/div/main/div/div[2]/div/div[3]/div/div[1]/div[1]/div[1]/ul/li[*]/article/div[1]/h2/a')\n",
    "    H_A_page_urls_set = {H_A.get_attribute(\"href\") for H_A in H_A_driver_list}\n",
    "    \n",
    "    return H_A_page_urls_set"
   ]
  },
  {
   "cell_type": "markdown",
   "metadata": {},
   "source": [
    "## Loop over all the Immoweb pages (Houses and Appartements for sales) for one Province"
   ]
  },
  {
   "cell_type": "code",
   "execution_count": null,
   "metadata": {},
   "outputs": [],
   "source": [
    "driver = webdriver.Chrome()\n",
    "driver.maximize_window()\n",
    "driver.get(f\"https://www.immoweb.be/en\")\n",
    "time.sleep(3)\n",
    "cookies = driver.find_element(By.XPATH,'/html/body/div[3]/div[4]/div[2]/div/div[2]/div[1]/button')\n",
    "cookies.click()\n",
    "\n",
    "H_A_page_urls_set = set()\n",
    "driver.get(f\"https://www.immoweb.be/en/search/house-and-apartment/for-sale/brussels/province?countries=BE&isALifeAnnuitySale=false&page=1&orderBy=relevance\")\n",
    "max_page = int(driver.find_element(By.XPATH,'/html/body/div[1]/div[1]/div/main/div/div[2]/div/div[3]/div/div[1]/div[1]/div[1]/div/div[1]/div/nav/ul/li[4]/a/span[2]').text)\n",
    "#extract urls\n",
    "\n",
    "for page in range(2,max_page+1) :\n",
    "\n",
    "    driver.get(f\"https://www.immoweb.be/en/search/house-and-apartment/for-sale/brussels/province?countries=BE&isALifeAnnuitySale=false&page={page}&orderBy=relevance\")\n",
    "    #extract urls\n",
    "\n",
    "driver.close()"
   ]
  },
  {
   "cell_type": "markdown",
   "metadata": {},
   "source": [
    "### Create the appropriate function to loop over all pages for one Province and extract URLs"
   ]
  },
  {
   "cell_type": "code",
   "execution_count": null,
   "metadata": {},
   "outputs": [],
   "source": [
    "def get_houses_appartments_pages_urls(driver,province) :\n",
    "    \n",
    "    H_A_pages_urls_set = set()\n",
    "    driver.get(f\"https://www.immoweb.be/en/search/house-and-apartment/for-sale/{province}/province?countries=BE&isALifeAnnuitySale=false&page=1&orderBy=relevance\")\n",
    "    max_page = int(driver.find_element(By.XPATH,'/html/body/div[1]/div[1]/div/main/div/div[2]/div/div[3]/div/div[1]/div[1]/div[1]/div/div[1]/div/nav/ul/li[4]/a/span[2]').text)\n",
    "\n",
    "    H_A_pages_urls_set.update(get_houses_appartments_page_urls(driver))\n",
    "\n",
    "    for page in range(2,max_page+1) :\n",
    "\n",
    "        driver.get(f\"https://www.immoweb.be/en/search/house-and-apartment/for-sale/{province}/province?countries=BE&isALifeAnnuitySale=false&page={page}&orderBy=relevance\")\n",
    "\n",
    "        H_A_pages_urls_set.update(get_houses_appartments_page_urls(driver))\n",
    "\n",
    "    return H_A_pages_urls_set"
   ]
  },
  {
   "cell_type": "markdown",
   "metadata": {},
   "source": [
    "## Loop over all the Immoweb Provinces pages (Houses and Appartements for sales)"
   ]
  },
  {
   "cell_type": "code",
   "execution_count": null,
   "metadata": {},
   "outputs": [],
   "source": [
    "driver = webdriver.Chrome()\n",
    "driver.maximize_window()\n",
    "driver.get(f\"https://www.immoweb.be/en\")\n",
    "time.sleep(3)\n",
    "cookies = driver.find_element(By.XPATH,'/html/body/div[3]/div[4]/div[2]/div/div[2]/div[1]/button')\n",
    "cookies.click()\n",
    "\n",
    "belgium_provinces = (\"brussels\",\"liege\",\"namur\",\"luxembourg\",\"hainaut\",\"walloon-brabant\",\"antwerp\",\"limburg\",\"west-flanders\",\"east-flanders\",\"flemish-brabant\")\n",
    "H_A_pages_urls_set = set()\n",
    "\n",
    "for province in belgium_provinces :\n",
    "    driver.get(f\"https://www.immoweb.be/en/search/house-and-apartment/for-sale/{province}/province?countries=BE&isALifeAnnuitySale=false&page=1&orderBy=relevance\")\n",
    "    # loop on pages and extract urls\n",
    "\n",
    "driver.close()"
   ]
  },
  {
   "cell_type": "markdown",
   "metadata": {},
   "source": [
    "### Create the appropriate function to loop over all Provinces pages"
   ]
  },
  {
   "cell_type": "code",
   "execution_count": null,
   "metadata": {},
   "outputs": [],
   "source": [
    "def get_houses_appartments_site_urls() :\n",
    "\n",
    "    provinces_urls_dict = {}\n",
    "    belgium_provinces = [\"brussels\",\"liege\",\"namur\",\"luxembourg\",\"hainaut\",\"walloon-brabant\",\"antwerp\",\"limburg\",\"west-flanders\",\"east-flanders\",\"flemish-brabant\"]\n",
    "\n",
    "    for province in belgium_provinces :\n",
    "        provinces_urls_dict[province] = list(get_houses_appartments_pages_urls(driver,province))\n",
    "\n",
    "    return  provinces_urls_dict"
   ]
  },
  {
   "cell_type": "markdown",
   "metadata": {},
   "source": [
    "## Extract House or Appartement Data from an Immoweb property description page"
   ]
  },
  {
   "cell_type": "code",
   "execution_count": 1,
   "metadata": {},
   "outputs": [
    {
     "name": "stdout",
     "output_type": "stream",
     "text": [
      "64378\n"
     ]
    }
   ],
   "source": [
    "import json\n",
    "\n",
    "with open(\"caches_urls.json\",\"r\") as my_file :\n",
    "\n",
    "    H_A_provinces_sell_immoweb_urls_dict = json.load(my_file)\n",
    "\n",
    "urls_number = 0\n",
    "\n",
    "for value in H_A_provinces_sell_immoweb_urls_dict.values() :\n",
    "\n",
    "    urls_number += len(value)\n",
    "\n",
    "print(urls_number)\n",
    "\n",
    "#to do"
   ]
  },
  {
   "cell_type": "markdown",
   "metadata": {},
   "source": [
    "## Create the appropriate Script to scrap Immoweb"
   ]
  },
  {
   "cell_type": "code",
   "execution_count": null,
   "metadata": {},
   "outputs": [],
   "source": [
    "from selenium import webdriver\n",
    "from selenium.webdriver.common.keys import Keys\n",
    "from selenium.webdriver.common.by import By\n",
    "import time\n",
    "import json\n",
    "\n",
    "\n",
    "\n",
    "def save_cache (for_sell_immoweb_urls) :\n",
    "    \n",
    "    with open(\"cache_urls.json\",\"w\") as my_file :\n",
    "        json.dump(for_sell_immoweb_urls,my_file)\n",
    "\n",
    "\n",
    "def get_houses_appartments_page_urls(driver) :\n",
    "    \n",
    "    H_A_driver_list = driver.find_elements(By.XPATH,'/html/body/div[1]/div[1]/div/main/div/div[2]/div/div[3]/div/div[1]/div[1]/div[1]/ul/li[*]/article/div[1]/h2/a')\n",
    "    H_A_page_urls_set = {H_A.get_attribute(\"href\") for H_A in H_A_driver_list}\n",
    "    \n",
    "    return H_A_page_urls_set\n",
    "\n",
    "\n",
    "def get_houses_appartments_pages_urls(driver,province) :\n",
    "    \n",
    "    H_A_pages_urls_set = set()\n",
    "    driver.get(f\"https://www.immoweb.be/en/search/house-and-apartment/for-sale/{province}/province?countries=BE&isALifeAnnuitySale=false&page=1&orderBy=relevance\")\n",
    "    max_page = int(driver.find_element(By.XPATH,'/html/body/div[1]/div[1]/div/main/div/div[2]/div/div[3]/div/div[1]/div[1]/div[1]/div/div[1]/div/nav/ul/li[4]/a/span[2]').text)\n",
    "\n",
    "    H_A_pages_urls_set.update(get_houses_appartments_page_urls(driver))\n",
    "\n",
    "    for page in range(2,max_page+1) :\n",
    "\n",
    "        driver.get(f\"https://www.immoweb.be/en/search/house-and-apartment/for-sale/{province}/province?countries=BE&isALifeAnnuitySale=false&page={page}&orderBy=relevance\")\n",
    "\n",
    "        H_A_pages_urls_set.update(get_houses_appartments_page_urls(driver))\n",
    "\n",
    "    return H_A_pages_urls_set\n",
    "\n",
    "\n",
    "def get_houses_appartments_site_urls() :\n",
    "\n",
    "    driver = webdriver.Chrome()\n",
    "    driver.maximize_window()\n",
    "    driver.get(\"https://www.immoweb.be/en\")\n",
    "    time.sleep(3)\n",
    "    cookies = driver.find_element(By.XPATH,'/html/body/div[3]/div[4]/div[2]/div/div[2]/div[1]/button')\n",
    "    cookies.click()\n",
    "\n",
    "    provinces_urls_dict = {}\n",
    "    belgium_provinces = [\"brussels\",\"liege\",\"namur\",\"luxembourg\",\"hainaut\",\"walloon-brabant\",\"antwerp\",\"limburg\",\"west-flanders\",\"east-flanders\",\"flemish-brabant\"]\n",
    "\n",
    "    for province in belgium_provinces :\n",
    "        provinces_urls_dict[province] = list(get_houses_appartments_pages_urls(driver,province))\n",
    "\n",
    "    driver.close()\n",
    "\n",
    "    return  provinces_urls_dict\n",
    "\n",
    "   \n",
    "\n",
    "if __name__ == '__main__' :\n",
    "\n",
    "    for_sell_immoweb_urls = get_houses_appartments_site_urls()\n",
    "    save_cache(for_sell_immoweb_urls)"
   ]
  },
  {
   "cell_type": "markdown",
   "metadata": {},
   "source": [
    "### Improve the Script with Concurrency and Parallelism (fix pages iteration bugs)"
   ]
  },
  {
   "cell_type": "code",
   "execution_count": null,
   "metadata": {},
   "outputs": [],
   "source": [
    "from selenium import webdriver\n",
    "from selenium.webdriver.common.keys import Keys\n",
    "from selenium.webdriver.common.by import By\n",
    "from multiprocessing import Pool\n",
    "import json\n",
    "\n",
    "\n",
    "\n",
    "def save_cache (H_A_sell_immoweb_urls) :\n",
    "    \n",
    "    with open(\"cache_urls.json\",\"w\") as my_file :\n",
    "        \n",
    "        json.dump(H_A_sell_immoweb_urls,my_file)\n",
    "\n",
    "\n",
    "def get_houses_appartments_page_urls(driver) :\n",
    "    \n",
    "    H_A_driver_list = driver.find_elements(By.XPATH,'/html/body/div[1]/div[1]/div/main/div/div[2]/div/div[3]/div/div[1]/div[1]/div[1]/ul/li[*]/article/div[1]/h2/a')\n",
    "    H_A_page_urls_set = {H_A.get_attribute(\"href\") for H_A in H_A_driver_list}\n",
    "    \n",
    "    return H_A_page_urls_set\n",
    "\n",
    "\n",
    "def get_houses_appartments_pages_urls(province) :\n",
    "    \n",
    "    driver = webdriver.Chrome()\n",
    "    H_A_pages_urls_set = set()\n",
    "    page = 1\n",
    "    \n",
    "    while True :\n",
    "\n",
    "        driver.get(f\"https://www.immoweb.be/en/search/house-and-apartment/for-sale/{province}/province?countries=BE&isALifeAnnuitySale=false&page={page}&orderBy=relevance\")\n",
    "        H_A_page_urls_set = get_houses_appartments_page_urls(driver)\n",
    "\n",
    "        if H_A_page_urls_set != set() :\n",
    "\n",
    "            H_A_pages_urls_set.update(H_A_page_urls_set)\n",
    "\n",
    "        else : \n",
    "\n",
    "            break\n",
    "\n",
    "        page += 1\n",
    "    \n",
    "    driver.close()\n",
    "\n",
    "    return H_A_pages_urls_set\n",
    "\n",
    "\n",
    "def get_houses_appartments_site_urls() :\n",
    "    \n",
    "    belgium_provinces = [\"brussels\",\"liege\",\"namur\",\"luxembourg\",\"hainaut\",\"walloon-brabant\",\"antwerp\",\"limburg\",\"west-flanders\",\"east-flanders\",\"flemish-brabant\"]\n",
    "    provinces_urls_dict = {}\n",
    "\n",
    "    with Pool(2) as pool :\n",
    "\n",
    "        for index, province_urls_set in enumerate(pool.map(get_houses_appartments_pages_urls,belgium_provinces)) :\n",
    "\n",
    "            provinces_urls_dict[belgium_provinces[index]] = list(province_urls_set)\n",
    "    \n",
    "    return  provinces_urls_dict\n",
    "\n",
    "\"\"\"\n",
    "def get_houses_appartments_site_urls() :\n",
    "    \n",
    "    belgium_provinces = [\"brussels\",\"liege\",\"namur\",\"luxembourg\",\"hainaut\",\"walloon-brabant\",\"antwerp\",\"limburg\",\"west-flanders\",\"east-flanders\",\"flemish-brabant\"]\n",
    "\n",
    "    with Pool(2) as pool :\n",
    "\n",
    "       H_A_provinces_urls_set = pool.map(get_houses_appartments_pages_urls,belgium_provinces)\n",
    "\n",
    "    provinces_urls_dict = {belgium_provinces[index] : list(value) for index , value in enumerate(H_A_provinces_urls_set)}\n",
    "    \n",
    "    return  provinces_urls_dict\n",
    "\"\"\"\n",
    "\n",
    "\n",
    "if __name__ == '__main__' :\n",
    "\n",
    "    H_A_sell_immoweb_urls = get_houses_appartments_site_urls()\n",
    "    \n",
    "    save_cache(H_A_sell_immoweb_urls)"
   ]
  },
  {
   "cell_type": "markdown",
   "metadata": {},
   "source": [
    "### Improve the Script by steps saving (fix sessions bugs)"
   ]
  },
  {
   "cell_type": "code",
   "execution_count": null,
   "metadata": {},
   "outputs": [],
   "source": [
    "from selenium import webdriver\n",
    "from selenium.webdriver.common.keys import Keys\n",
    "from selenium.webdriver.common.by import By\n",
    "from multiprocessing import Pool\n",
    "import json\n",
    "\n",
    "\n",
    "\n",
    "def save_province_urls_cache(file_name,H_A_province_sell_immoweb_urls) :\n",
    "    \n",
    "    with open(file_name,\"w\") as my_file :\n",
    "\n",
    "        json.dump(H_A_province_sell_immoweb_urls,my_file)\n",
    "\n",
    "\n",
    "def save_province_progress_cache(province,file_name) :\n",
    "\n",
    "    try :\n",
    "\n",
    "        with open(\"province_progress_cache.json\",\"r\") as my_file :\n",
    "            \n",
    "            province_progress_dict = json.load(my_file)  \n",
    "        \n",
    "    except :\n",
    "\n",
    "        province_progress_dict = {}\n",
    "    \n",
    "    province_progress_dict [province] = file_name\n",
    "\n",
    "    with open(\"province_progress_cache.json\",\"w\") as my_file :\n",
    "\n",
    "        json.dump(province_progress_dict,my_file)\n",
    "\n",
    "\n",
    "def save_cache() :\n",
    "\n",
    "    H_A_provinces_sell_immoweb_urls = {}\n",
    "\n",
    "    with open(\"province_progress_cache.json\",\"r\") as my_file :\n",
    "\n",
    "        province_file_name = json.load(my_file)\n",
    "\n",
    "    for key , value in province_file_name.items() :\n",
    "\n",
    "        with open(value,\"r\") as my_file :\n",
    "\n",
    "            H_A_province_sell_immoweb_urls = json.load(my_file)\n",
    "        \n",
    "        H_A_provinces_sell_immoweb_urls[key] = H_A_province_sell_immoweb_urls[key]\n",
    "\n",
    "    with open(\"caches_urls.json\",\"w\") as my_file :\n",
    "\n",
    "        json.dump(H_A_provinces_sell_immoweb_urls,my_file)\n",
    "\n",
    "\n",
    "def get_houses_appartments_page_urls(driver) :\n",
    "    \n",
    "    H_A_driver_list = driver.find_elements(By.XPATH,'/html/body/div[1]/div[1]/div/main/div/div[2]/div/div[3]/div/div[1]/div[1]/div[1]/ul/li[*]/article/div[1]/h2/a')\n",
    "    H_A_page_urls_set = {H_A.get_attribute(\"href\") for H_A in H_A_driver_list}\n",
    "    \n",
    "    return H_A_page_urls_set\n",
    "\n",
    "\n",
    "def get_houses_appartments_pages_urls(province) :\n",
    "    \n",
    "    driver = webdriver.Chrome()\n",
    "    H_A_pages_urls_set = set()\n",
    "    page = 1\n",
    "    \n",
    "    while True :\n",
    "\n",
    "        driver.get(f\"https://www.immoweb.be/en/search/house-and-apartment/for-sale/{province}/province?countries=BE&isALifeAnnuitySale=false&page={page}&orderBy=relevance\")\n",
    "        H_A_page_urls_set = get_houses_appartments_page_urls(driver)\n",
    "\n",
    "        if H_A_page_urls_set != set() :\n",
    "\n",
    "            H_A_pages_urls_set.update(H_A_page_urls_set)\n",
    "\n",
    "        else : \n",
    "\n",
    "            break\n",
    "\n",
    "        page += 1\n",
    "    \n",
    "    driver.close()\n",
    "    H_A_province_sell_immoweb_urls = {province : list(H_A_pages_urls_set)}\n",
    "    file_name = f\"{province}_cache_urls.json\"\n",
    "    \n",
    "    save_province_urls_cache(file_name,H_A_province_sell_immoweb_urls)\n",
    "\n",
    "    save_province_progress_cache(province,file_name)\n",
    "\n",
    "\n",
    "def get_houses_appartments_site_urls() :\n",
    "    \n",
    "    belgium_provinces = [\"brussels\",\"liege\",\"namur\",\"luxembourg\",\"hainaut\",\"walloon-brabant\",\"antwerp\",\"limburg\",\"west-flanders\",\"east-flanders\",\"flemish-brabant\"]\n",
    "\n",
    "    try :\n",
    "\n",
    "        with open(\"province_progress_cache.json\",\"r\") as my_file :\n",
    "\n",
    "            province_progress_dict_check = json.load(my_file)\n",
    "            belgium_provinces_to_do = [province for province in belgium_provinces if province not in province_progress_dict_check.keys()]\n",
    "        \n",
    "    except :\n",
    "\n",
    "        belgium_provinces_to_do = belgium_provinces\n",
    "    \n",
    "    if belgium_provinces_to_do == [] :\n",
    "\n",
    "        return True\n",
    "        \n",
    "    with Pool(2) as pool :\n",
    "\n",
    "       pool.map(get_houses_appartments_pages_urls,belgium_provinces_to_do)\n",
    "\n",
    "    return False\n",
    "\n",
    "\n",
    "\n",
    "if __name__ == '__main__' :\n",
    "\n",
    "    job_done_flag = False\n",
    "\n",
    "    while True and not job_done_flag :\n",
    "\n",
    "        try :\n",
    "\n",
    "            job_done_flag = get_houses_appartments_site_urls()\n",
    "\n",
    "        except :\n",
    "            \n",
    "            pass\n",
    "\n",
    "    save_cache()"
   ]
  },
  {
   "cell_type": "markdown",
   "metadata": {},
   "source": [
    "## Create the appropriate Class & Import"
   ]
  },
  {
   "cell_type": "code",
   "execution_count": null,
   "metadata": {},
   "outputs": [],
   "source": [
    "from selenium import webdriver\n",
    "from selenium.webdriver.common.keys import Keys\n",
    "from selenium.webdriver.common.by import By\n",
    "import time\n",
    "\n",
    "class Immoweb_H_A_Data_Pool() :\n",
    "    pass\n",
    "\n",
    "#to do"
   ]
  }
 ],
 "metadata": {
  "kernelspec": {
   "display_name": "Python 3.10.6 ('ENV_IMMO')",
   "language": "python",
   "name": "python3"
  },
  "language_info": {
   "codemirror_mode": {
    "name": "ipython",
    "version": 3
   },
   "file_extension": ".py",
   "mimetype": "text/x-python",
   "name": "python",
   "nbconvert_exporter": "python",
   "pygments_lexer": "ipython3",
   "version": "3.10.6"
  },
  "orig_nbformat": 4,
  "vscode": {
   "interpreter": {
    "hash": "1102786b7e7c729305d6f8f258618ad9f5c856ba532d4f331d56d0d460005511"
   }
  }
 },
 "nbformat": 4,
 "nbformat_minor": 2
}
