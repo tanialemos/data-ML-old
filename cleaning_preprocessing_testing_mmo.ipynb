{
 "cells": [
  {
   "cell_type": "markdown",
   "metadata": {},
   "source": [
    "# CONFIGURING"
   ]
  },
  {
   "cell_type": "code",
   "execution_count": 8,
   "metadata": {},
   "outputs": [],
   "source": [
    "from selenium import webdriver\n",
    "from selenium.webdriver.common.keys import Keys\n",
    "from selenium.webdriver.common.by import By\n",
    "import json\n",
    "import time\n",
    "import seaborn as sb\n",
    "import numpy as np\n",
    "import pandas as pd\n",
    "import matplotlib.pyplot as plt\n",
    "import scipy.stats as stats\n",
    "from numpy import NaN\n",
    "from sklearn.utils import shuffle\n",
    "from sklearn.model_selection  import train_test_split\n",
    "from sklearn.linear_model import LinearRegression\n",
    "from sklearn.metrics import mean_squared_error, mean_absolute_error\n",
    "from sklearn import preprocessing\n",
    "from sklearn.preprocessing import OneHotEncoder\n",
    "from sklearn import metrics\n",
    "\n",
    "#SELECT THE FILE\n",
    "df = pd.read_csv(\"df_train.csv\")"
   ]
  },
  {
   "cell_type": "markdown",
   "metadata": {},
   "source": [
    "# CLEANING"
   ]
  },
  {
   "cell_type": "code",
   "execution_count": 9,
   "metadata": {},
   "outputs": [],
   "source": [
    "#DROP NAN AND USELESS VALUES\n",
    "df = df.replace(-1, NaN)\n",
    "df.dropna(subset='price', inplace = True)\n",
    "df.dropna(subset='number_of_bedrooms', inplace = True)\n",
    "df.dropna(subset='surface', inplace = True)\n",
    "df.drop(df.index[df['type_of_sale'] != 'residential_sale'], inplace=True)\n",
    "df.drop(df.index[df['subtype_of_property'] == 'APARTMENT_BLOCK'], inplace=True)\n",
    "df.drop(df.index[df['type_of_property'] == 'HOUSE_GROUP'], inplace=True)\n",
    "df.drop(df.index[df['type_of_property'] == 'APARTMENT_GROUP'], inplace=True)\n",
    "\n",
    "#REPLACE NAN BY 0\n",
    "df[\"swimming_pool\"] = df[\"swimming_pool\"].replace(NaN, 0).astype(int)\n",
    "df[\"garden\"] = df[\"garden\"].replace(NaN, 0).astype(int)\n",
    "df[\"terrace\"] = df[\"terrace\"].replace(NaN, 0).astype(int)\n",
    "\n"
   ]
  },
  {
   "cell_type": "markdown",
   "metadata": {},
   "source": [
    "# FEATURE ENGINEERING"
   ]
  },
  {
   "cell_type": "code",
   "execution_count": 10,
   "metadata": {},
   "outputs": [],
   "source": [
    "#TRANSLATE CATEGORIES IN NUM VALUES\n",
    "    #Property_type\n",
    "map_property = {\"HOUSE\":1, \"APARTMENT\":0}\n",
    "df[\"type_of_property\"] = df[\"type_of_property\"].map(map_property).astype(int)\n",
    "\n",
    "    #State_of_building\n",
    "map_state = {\"GOOD\":1, \"TO_RENOVATE\":0, \"AS_NEW\":1, \"JUST_RENOVATED\":1, \"TO_RESTORE\":0, \"NO_INFO\":1, \"TO_BE_DONE_UP\":1}\n",
    "df[\"state_of_the_building\"] = df[\"state_of_the_building\"].map(map_state).astype(int)\n",
    "\n",
    "    #Postal code and communes\n",
    "map_provinces = list(df[\"province\"].unique())\n",
    "dict_province = {}\n",
    "for province in map_provinces : \n",
    "    dict_province[province] = df[(df[\"province\"] == province)][\"price\"].median()/df[\"price\"].median()\n",
    "df[\"province_score\"] = df[\"province\"].map(dict_province)\n",
    "\n",
    "\n",
    "#DROP FEATURES\n",
    "del df[\"province\"]\n",
    "del df[\"type_of_sale\"]\n",
    "del df[\"Unnamed: 0\"]\n",
    "del df[\"id\"]\n",
    "del df[\"postal_code\"]\n",
    "del df[\"locality\"]\n",
    "del df[\"fully_equipped_kitchen\"]\n",
    "del df[\"kitchen_type\"]\n",
    "del df[\"land_surface\"]\n",
    "del df[\"number_of_facades\"]\n",
    "del df[\"garden_surface\"]\n",
    "del df[\"terrace_surface\"]\n",
    "del df[\"furnished\"]\n",
    "del df[\"open_fire\"]\n",
    "del df[\"region\"]\n",
    "del df[\"subtype_of_property\"]\n",
    "\n",
    "\n",
    "#DROP OUTLIERS\n",
    "\n",
    "factor = 2\n",
    "\n",
    "    #Price\n",
    "upper_lim = df['price'].mean() + df['price'].std() * factor\n",
    "df = df[(df['price'] < upper_lim) & (df['price'] >= 20000)]\n",
    "\n",
    "    #Surface\n",
    "upper_lim1 = df['surface'].mean() + df['surface'].std() * factor\n",
    "lower_lim1 = df['surface'].mean() - df['surface'].std() * factor\n",
    "df = df[(df['surface'] < upper_lim1) & (df['surface'] > lower_lim1)]\n",
    "\n",
    "    #Bedrooms\n",
    "upper_lim2 = df['number_of_bedrooms'].mean() + df['number_of_bedrooms'].std() * factor\n",
    "lower_lim2 = df['number_of_bedrooms'].mean() - df['number_of_bedrooms'].std() * factor\n",
    "df = df[(df['number_of_bedrooms'] < upper_lim2) & (df['number_of_bedrooms'] > lower_lim2)]\n",
    "\n",
    "\n",
    "#STANDARDIZATION\n",
    "df['number_of_bedrooms'] = (df['number_of_bedrooms'] - df['number_of_bedrooms'].mean()) / df['number_of_bedrooms'].std()\n",
    "df['surface'] = (df['surface'] - df['surface'].mean()) / df['surface'].std()\n",
    "\n",
    "#EXTRACT\n",
    "df.to_csv(\"13_cleaned_process_dataset.csv\")"
   ]
  },
  {
   "cell_type": "markdown",
   "metadata": {},
   "source": [
    "# REGRESSION TRAINING"
   ]
  },
  {
   "cell_type": "code",
   "execution_count": 11,
   "metadata": {},
   "outputs": [
    {
     "data": {
      "text/plain": [
       "0.4865129971499542"
      ]
     },
     "execution_count": 11,
     "metadata": {},
     "output_type": "execute_result"
    }
   ],
   "source": [
    "# Define the ML model variable\n",
    "X_train = df.drop('price',axis= 1)\n",
    "y_train = df['price']\n",
    "\n",
    "#Create a linear regression model\n",
    "model = LinearRegression()\n",
    "\n",
    "#Fit the model with training data\n",
    "model.fit(X_train,y_train)\n",
    "\n",
    "#Display the score\n",
    "model.score(X_train, y_train)"
   ]
  }
 ],
 "metadata": {
  "kernelspec": {
   "display_name": "Python 3.10.6 ('ENV_IMMO')",
   "language": "python",
   "name": "python3"
  },
  "language_info": {
   "codemirror_mode": {
    "name": "ipython",
    "version": 3
   },
   "file_extension": ".py",
   "mimetype": "text/x-python",
   "name": "python",
   "nbconvert_exporter": "python",
   "pygments_lexer": "ipython3",
   "version": "3.10.6"
  },
  "orig_nbformat": 4,
  "vscode": {
   "interpreter": {
    "hash": "1102786b7e7c729305d6f8f258618ad9f5c856ba532d4f331d56d0d460005511"
   }
  }
 },
 "nbformat": 4,
 "nbformat_minor": 2
}
