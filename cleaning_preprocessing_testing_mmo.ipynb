{
 "cells": [
  {
   "cell_type": "markdown",
   "metadata": {},
   "source": [
    "# CONFIGURING"
   ]
  },
  {
   "cell_type": "code",
   "execution_count": 72,
   "metadata": {},
   "outputs": [],
   "source": [
    "from selenium import webdriver\n",
    "from selenium.webdriver.common.keys import Keys\n",
    "from selenium.webdriver.common.by import By\n",
    "import json\n",
    "import time\n",
    "import seaborn as sb\n",
    "import numpy as np\n",
    "import pandas as pd\n",
    "import matplotlib.pyplot as plt\n",
    "import scipy.stats as stats\n",
    "from numpy import NaN\n",
    "from sklearn.utils import shuffle\n",
    "from sklearn.model_selection  import train_test_split\n",
    "from sklearn.linear_model import LinearRegression\n",
    "from sklearn.metrics import mean_squared_error, mean_absolute_error\n",
    "from sklearn import preprocessing\n",
    "from sklearn.preprocessing import OneHotEncoder\n",
    "from sklearn import metrics\n",
    "\n",
    "#SELECT THE FILE\n",
    "df = pd.read_csv(\"df_train.csv\")"
   ]
  },
  {
   "cell_type": "markdown",
   "metadata": {},
   "source": [
    "# CLEANING"
   ]
  },
  {
   "cell_type": "code",
   "execution_count": 73,
   "metadata": {},
   "outputs": [],
   "source": [
    "#DROP NAN AND USELESS VALUES\n",
    "df = df.replace(-1, NaN)\n",
    "df.dropna(subset='price', inplace = True)\n",
    "df.dropna(subset='number_of_bedrooms', inplace = True)\n",
    "df.dropna(subset='surface', inplace = True)\n",
    "df.drop(df.index[df['type_of_sale'] != 'residential_sale'], inplace=True)\n",
    "df.drop(df.index[df['subtype_of_property'] == 'APARTMENT_BLOCK'], inplace=True)\n",
    "df.drop(df.index[df['type_of_property'] == 'HOUSE_GROUP'], inplace=True)\n",
    "df.drop(df.index[df['type_of_property'] == 'APARTMENT_GROUP'], inplace=True)\n",
    "\n",
    "#REPLACE NAN BY 0\n",
    "df[\"swimming_pool\"] = df[\"swimming_pool\"].replace(NaN, 0).astype(int)\n",
    "df[\"garden\"] = df[\"garden\"].replace(NaN, 0).astype(int)\n",
    "df[\"terrace\"] = df[\"terrace\"].replace(NaN, 0).astype(int)\n",
    "\n"
   ]
  },
  {
   "cell_type": "markdown",
   "metadata": {},
   "source": [
    "# FEATURE ENGINEERING"
   ]
  },
  {
   "cell_type": "code",
   "execution_count": 74,
   "metadata": {},
   "outputs": [
    {
     "name": "stderr",
     "output_type": "stream",
     "text": [
      "/var/folders/y9/x007ynb92t57yt7s517ct53w0000gn/T/ipykernel_27606/59054164.py:27: FutureWarning: The default value of numeric_only in DataFrameGroupBy.median is deprecated. In a future version, numeric_only will default to False. Either specify numeric_only or select only columns which should be valid for the function.\n",
      "  mapping_3 = df_merge.groupby(['arrondissement']).median()['price']\n"
     ]
    }
   ],
   "source": [
    "#TRANSLATE CATEGORIES IN NUM VALUES\n",
    "\n",
    "    #Property_type\n",
    "map_property = {\"HOUSE\":1, \"APARTMENT\":0}\n",
    "df[\"type_of_property\"] = df[\"type_of_property\"].map(map_property).astype(int)\n",
    "\n",
    "    #State_of_building\n",
    "map_state = {\"GOOD\":1, \"TO_RENOVATE\":0, \"AS_NEW\":1, \"JUST_RENOVATED\":1, \"TO_RESTORE\":0, \"NO_INFO\":1, \"TO_BE_DONE_UP\":1}\n",
    "df[\"state_of_the_building\"] = df[\"state_of_the_building\"].map(map_state).astype(int)\n",
    "\n",
    "    #Postal code and communes\n",
    "def create_zip_score(df_merge):\n",
    "    #import and merge zipcode to dataset\n",
    "    column_names_zip = ['country_code','postal_code','municipality','region','region_code','province', 'province_code','arrondissement', 'nbr_mun', 'longitude', 'latitude','other']\n",
    "    zip_code = pd.read_csv('be_zipcode.txt', sep=\"\\t\", header=None , names=column_names_zip).drop_duplicates(['postal_code','region','arrondissement','province'])\n",
    "    arr_zip_code = zip_code[['postal_code','arrondissement','region', 'province']]\n",
    "    df_merge = df_merge.merge(arr_zip_code,how='outer', on='postal_code' )\n",
    "\n",
    "    #count the number of sales per postal code en arrondissement\n",
    "    mapping_1 = df_merge.groupby('postal_code').count()['arrondissement']\n",
    "    mapping_2 = df_merge.groupby('arrondissement').count()['region_y']\n",
    "    df_merge['obs_per_postc'] = df_merge.postal_code.replace(mapping_1)\n",
    "    df_merge['obs_per_arr'] = df_merge.arrondissement.replace(mapping_2)\n",
    "\n",
    "    # Creation of a dataset with zip score\n",
    "    zip_code_score = df_merge.groupby(['arrondissement','postal_code']).agg({'price': 'median', 'obs_per_postc': 'mean', 'obs_per_arr': 'mean'}).reset_index().rename(columns={'price':'median_p_zip'})\n",
    "    mapping_3 = df_merge.groupby(['arrondissement']).median()['price']\n",
    "    zip_code_score['median_p_arr'] = zip_code_score.arrondissement.replace(mapping_3)\n",
    "    #print \n",
    "    zip_code_score.loc[zip_code_score['obs_per_postc'] > min(zip_code_score['obs_per_arr']), 'postal_code_score'] = zip_code_score['median_p_zip']\n",
    "    zip_code_score.loc[zip_code_score['postal_code_score'].isna(),'postal_code_score'] = zip_code_score['median_p_arr']\n",
    "    zip_code_score = zip_code_score[['postal_code','postal_code_score']].sort_values('postal_code_score')\n",
    "    return zip_code_score\n",
    "\n",
    "df_cp = create_zip_score(df)\n",
    "df = df.merge(df_cp, how='outer', on='postal_code')\n",
    "\n",
    "\n",
    "#DROP FEATURES\n",
    "del df[\"province\"]\n",
    "del df[\"type_of_sale\"]\n",
    "del df[\"Unnamed: 0\"]\n",
    "del df[\"id\"]\n",
    "del df[\"postal_code\"]\n",
    "del df[\"locality\"]\n",
    "del df[\"fully_equipped_kitchen\"]\n",
    "del df[\"kitchen_type\"]\n",
    "del df[\"land_surface\"]\n",
    "del df[\"number_of_facades\"]\n",
    "del df[\"garden_surface\"]\n",
    "del df[\"terrace_surface\"]\n",
    "del df[\"furnished\"]\n",
    "del df[\"open_fire\"]\n",
    "del df[\"region\"]\n",
    "del df[\"subtype_of_property\"]\n",
    "\n",
    "\n",
    "#DROP OUTLIERS\n",
    "factor = 2\n",
    "\n",
    "    #Price\n",
    "upper_lim = df['price'].mean() + df['price'].std() * factor\n",
    "df = df[(df['price'] < upper_lim) & (df['price'] >= 20000)]\n",
    "\n",
    "    #Surface\n",
    "upper_lim1 = df['surface'].mean() + df['surface'].std() * factor\n",
    "lower_lim1 = df['surface'].mean() - df['surface'].std() * factor\n",
    "df = df[(df['surface'] < upper_lim1) & (df['surface'] > lower_lim1)]\n",
    "\n",
    "    #Bedrooms\n",
    "upper_lim2 = df['number_of_bedrooms'].mean() + df['number_of_bedrooms'].std() * factor\n",
    "lower_lim2 = df['number_of_bedrooms'].mean() - df['number_of_bedrooms'].std() * factor\n",
    "df = df[(df['number_of_bedrooms'] < upper_lim2) & (df['number_of_bedrooms'] > lower_lim2)]\n",
    "\n",
    "\n",
    "#STANDARDIZATION\n",
    "df['number_of_bedrooms'] = (df['number_of_bedrooms'] - df['number_of_bedrooms'].mean()) / df['number_of_bedrooms'].std()\n",
    "df['surface'] = (df['surface'] - df['surface'].mean()) / df['surface'].std()\n",
    "df['postal_code_score'] = (df['postal_code_score'] - df['postal_code_score'].mean()) / df['postal_code_score'].std()\n",
    "\n",
    "#EXTRACT\n",
    "# df.to_csv(\"13_cleaned_process_dataset.csv\")\n",
    "\n",
    "#HEATMAP\n",
    "# Var_Corr = df.corr()\n",
    "# sb.heatmap(Var_Corr, xticklabels=Var_Corr.columns, yticklabels=Var_Corr.columns, annot=True)"
   ]
  },
  {
   "cell_type": "markdown",
   "metadata": {},
   "source": [
    "# REGRESSION TRAINING"
   ]
  },
  {
   "cell_type": "code",
   "execution_count": 75,
   "metadata": {},
   "outputs": [
    {
     "data": {
      "text/plain": [
       "0.5816898856449167"
      ]
     },
     "execution_count": 75,
     "metadata": {},
     "output_type": "execute_result"
    }
   ],
   "source": [
    "# Define the ML model variable\n",
    "X_train = df.drop('price',axis= 1)\n",
    "y_train = df['price']\n",
    "\n",
    "#Create a linear regression model\n",
    "model = LinearRegression()\n",
    "\n",
    "#Fit the model with training data\n",
    "model.fit(X_train,y_train)\n",
    "\n",
    "#Display the score\n",
    "model.score(X_train, y_train)"
   ]
  }
 ],
 "metadata": {
  "kernelspec": {
   "display_name": "Python 3.10.6 ('ENV_IMMO')",
   "language": "python",
   "name": "python3"
  },
  "language_info": {
   "codemirror_mode": {
    "name": "ipython",
    "version": 3
   },
   "file_extension": ".py",
   "mimetype": "text/x-python",
   "name": "python",
   "nbconvert_exporter": "python",
   "pygments_lexer": "ipython3",
   "version": "3.10.6"
  },
  "orig_nbformat": 4,
  "vscode": {
   "interpreter": {
    "hash": "1102786b7e7c729305d6f8f258618ad9f5c856ba532d4f331d56d0d460005511"
   }
  }
 },
 "nbformat": 4,
 "nbformat_minor": 2
}
