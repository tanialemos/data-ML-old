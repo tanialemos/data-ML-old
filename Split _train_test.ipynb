{
 "cells": [
  {
   "cell_type": "markdown",
   "metadata": {},
   "source": [
    "# CONFIG"
   ]
  },
  {
   "cell_type": "code",
   "execution_count": 1,
   "metadata": {},
   "outputs": [],
   "source": [
    "from selenium import webdriver\n",
    "from selenium.webdriver.common.keys import Keys\n",
    "from selenium.webdriver.common.by import By\n",
    "import json\n",
    "import time\n",
    "import seaborn as sb\n",
    "import numpy as np\n",
    "import pandas as pd\n",
    "import matplotlib.pyplot as plt\n",
    "import scipy.stats as stats\n",
    "from numpy import NaN\n",
    "from sklearn.utils import shuffle\n",
    "from sklearn.model_selection  import train_test_split\n",
    "df = pd.read_csv(\"60k.csv\")"
   ]
  },
  {
   "cell_type": "code",
   "execution_count": 2,
   "metadata": {},
   "outputs": [],
   "source": [
    "#Shuffle and create sample for Train_dataset\n",
    "df = shuffle(df)\n",
    "\n",
    "df_train, df_test = train_test_split(df,test_size = 0.15)\n",
    "\n",
    "df_test = df_test.reset_index(drop = True)\n",
    "df_train = df_train.reset_index(drop = True)\n",
    "\n",
    "df_test.to_csv(\"df_test.csv\",index = False)\n",
    "df_train.to_csv(\"df_train.csv\",index = False)"
   ]
  }
 ],
 "metadata": {
  "kernelspec": {
   "display_name": "Python 3.10.6 ('ENV_IMMO')",
   "language": "python",
   "name": "python3"
  },
  "language_info": {
   "codemirror_mode": {
    "name": "ipython",
    "version": 3
   },
   "file_extension": ".py",
   "mimetype": "text/x-python",
   "name": "python",
   "nbconvert_exporter": "python",
   "pygments_lexer": "ipython3",
   "version": "3.10.6"
  },
  "orig_nbformat": 4,
  "vscode": {
   "interpreter": {
    "hash": "1102786b7e7c729305d6f8f258618ad9f5c856ba532d4f331d56d0d460005511"
   }
  }
 },
 "nbformat": 4,
 "nbformat_minor": 2
}
